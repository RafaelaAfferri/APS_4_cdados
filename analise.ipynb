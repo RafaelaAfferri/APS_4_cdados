{
 "cells": [
  {
   "cell_type": "code",
   "execution_count": 1,
   "metadata": {},
   "outputs": [
    {
     "data": {
      "text/plain": [
       "Curso Nome                Sexo       Convocado?\n",
       "ADMINISTRAÇÃO             Masculino  Não           585\n",
       "                          Feminino   Não           366\n",
       "                          Masculino  Sim           173\n",
       "                          Feminino   Sim            93\n",
       "CIÊNCIA DA COMPUTAÇÃO     Masculino  Não            80\n",
       "                                     Sim            48\n",
       "                          Feminino   Não            33\n",
       "                                     Sim            12\n",
       "CIÊNCIAS ECONÔMICAS       Masculino  Não           439\n",
       "                                     Sim           161\n",
       "                          Feminino   Não           141\n",
       "                                     Sim            42\n",
       "DIREITO                   Feminino   Não           214\n",
       "                          Masculino  Não            88\n",
       "                          Feminino   Sim            68\n",
       "                          Masculino  Sim            42\n",
       "ENGENHARIA DE COMPUTAÇÃO  Masculino  Não            63\n",
       "                                     Sim            40\n",
       "                          Feminino   Não            31\n",
       "                                     Sim             9\n",
       "ENGENHARIA MECATRÔNICA    Masculino  Não            30\n",
       "                                     Sim            12\n",
       "                          Feminino   Não            11\n",
       "                                     Sim             2\n",
       "ENGENHARIA MECÂNICA       Masculino  Não            41\n",
       "                                     Sim            15\n",
       "                          Feminino   Não             7\n",
       "                                     Sim             6\n",
       "Name: count, dtype: int64"
      ]
     },
     "execution_count": 1,
     "metadata": {},
     "output_type": "execute_result"
    }
   ],
   "source": [
    "import pandas as pd\n",
    "import scipy.stats as st\n",
    "df = pd.read_excel('Dados_Vestibular20232.xlsx')\n",
    "\n",
    "df_ = df[['Curso Nome', 'Sexo' , 'Convocado?']]\n",
    "\n",
    "# filtrado pela contagem \n",
    "df_gp = df_.groupby(['Curso Nome']).value_counts()\n",
    "\n",
    "#como acessar exemplo:\n",
    "#df_gp.loc['CIÊNCIA DA COMPUTAÇÃO']['Masculino']['Não']\n",
    "\n",
    "df_gp"
   ]
  },
  {
   "cell_type": "code",
   "execution_count": 2,
   "metadata": {},
   "outputs": [
    {
     "name": "stdout",
     "output_type": "stream",
     "text": [
      "0.20261437908496732 0.22823218997361477 0.1041308077073185\n"
     ]
    }
   ],
   "source": [
    "#administração\n",
    "\n",
    "total_masc_adm = df_gp.loc['ADMINISTRAÇÃO']['Masculino'].sum()\n",
    "total_fem_adm = df_gp.loc['ADMINISTRAÇÃO']['Feminino'].sum()\n",
    "total_masc_adm_app = df_gp.loc['ADMINISTRAÇÃO']['Masculino']['Sim']\n",
    "total_fem_adm_app = df_gp.loc['ADMINISTRAÇÃO']['Feminino']['Sim']\n",
    "\n",
    "p_passar_fem_adm = total_fem_adm_app / total_fem_adm\n",
    "\n",
    "p_passar_masc_adm = total_masc_adm_app / total_masc_adm\n",
    "\n",
    "adm = st.binom.cdf(total_fem_adm_app, total_fem_adm, p_passar_masc_adm)\n",
    "\n",
    "print(p_passar_fem_adm, p_passar_masc_adm, adm)"
   ]
  },
  {
   "cell_type": "code",
   "execution_count": 3,
   "metadata": {},
   "outputs": [
    {
     "name": "stdout",
     "output_type": "stream",
     "text": [
      "0.22950819672131148 0.2683333333333333 0.13454255817493238\n"
     ]
    }
   ],
   "source": [
    "#ciências econômicas\n",
    "\n",
    "total_masc_eco = df_gp.loc['CIÊNCIAS ECONÔMICAS']['Masculino'].sum()\n",
    "total_fem_eco = df_gp.loc['CIÊNCIAS ECONÔMICAS']['Feminino'].sum()\n",
    "total_masc_eco_app = df_gp.loc['CIÊNCIAS ECONÔMICAS']['Masculino']['Sim']\n",
    "total_fem_eco_app = df_gp.loc['CIÊNCIAS ECONÔMICAS']['Feminino']['Sim']\n",
    "\n",
    "p_passar_fem_eco = total_fem_eco_app / total_fem_eco\n",
    "\n",
    "p_passar_masc_eco = total_masc_eco_app / total_masc_eco\n",
    "\n",
    "eco = st.binom.cdf(total_fem_eco_app, total_fem_eco, p_passar_masc_eco)\n",
    "\n",
    "print(p_passar_fem_eco, p_passar_masc_eco, eco)"
   ]
  },
  {
   "cell_type": "code",
   "execution_count": 7,
   "metadata": {},
   "outputs": [
    {
     "name": "stdout",
     "output_type": "stream",
     "text": [
      "0.26666666666666666 0.375 0.08681218061840663\n"
     ]
    }
   ],
   "source": [
    "#CIÊNCIA DA COMPUTAÇÃO\n",
    "\n",
    "total_masc_ccomp = df_gp.loc['CIÊNCIA DA COMPUTAÇÃO']['Masculino'].sum()\n",
    "total_fem_ccomp = df_gp.loc['CIÊNCIA DA COMPUTAÇÃO']['Feminino'].sum()\n",
    "total_masc_ccomp_app = df_gp.loc['CIÊNCIA DA COMPUTAÇÃO']['Masculino']['Sim']\n",
    "total_fem_ccomp_app = df_gp.loc['CIÊNCIA DA COMPUTAÇÃO']['Feminino']['Sim']\n",
    "\n",
    "p_passar_fem_ccomp = total_fem_ccomp_app / total_fem_ccomp\n",
    "\n",
    "p_passar_masc_ccomp = total_masc_ccomp_app / total_masc_ccomp\n",
    "\n",
    "ccomp = st.binom.cdf(total_fem_ccomp_app, total_fem_ccomp, p_passar_masc_ccomp)\n",
    "\n",
    "print(p_passar_fem_ccomp, p_passar_masc_ccomp, ccomp)"
   ]
  },
  {
   "cell_type": "code",
   "execution_count": 8,
   "metadata": {},
   "outputs": [
    {
     "name": "stdout",
     "output_type": "stream",
     "text": [
      "0.24113475177304963 0.3230769230769231 0.00161874014135119\n"
     ]
    }
   ],
   "source": [
    "#direito\n",
    "\n",
    "total_masc_dir = df_gp.loc['DIREITO']['Masculino'].sum()\n",
    "total_fem_dir = df_gp.loc['DIREITO']['Feminino'].sum()\n",
    "total_masc_dir_app = df_gp.loc['DIREITO']['Masculino']['Sim']\n",
    "total_fem_dir_app = df_gp.loc['DIREITO']['Feminino']['Sim']\n",
    "\n",
    "p_passar_fem_dir = total_fem_dir_app / total_fem_dir\n",
    "\n",
    "p_passar_masc_dir = total_masc_dir_app / total_masc_dir\n",
    "\n",
    "dir = st.binom.cdf(total_fem_dir_app, total_fem_dir, p_passar_masc_dir)\n",
    "\n",
    "print(p_passar_fem_dir, p_passar_masc_dir, dir)"
   ]
  },
  {
   "cell_type": "code",
   "execution_count": 9,
   "metadata": {},
   "outputs": [
    {
     "name": "stdout",
     "output_type": "stream",
     "text": [
      "0.225 0.3883495145631068 0.022296039678986752\n"
     ]
    }
   ],
   "source": [
    "#ENGENHARIA DE COMPUTAÇÃO\n",
    "total_masc_engcomp = df_gp.loc['ENGENHARIA DE COMPUTAÇÃO']['Masculino'].sum()\n",
    "total_fem_engcomp = df_gp.loc['ENGENHARIA DE COMPUTAÇÃO']['Feminino'].sum()\n",
    "total_masc_engcomp_app = df_gp.loc['ENGENHARIA DE COMPUTAÇÃO']['Masculino']['Sim']\n",
    "total_fem_engcom_app = df_gp.loc['ENGENHARIA DE COMPUTAÇÃO']['Feminino']['Sim']\n",
    "\n",
    "p_passar_fem_engcomp = total_fem_engcom_app / total_fem_engcomp\n",
    "\n",
    "p_passar_masc_engcomp = total_masc_engcomp_app / total_masc_engcomp\n",
    "\n",
    "engcomp = st.binom.cdf(total_fem_engcom_app, total_fem_engcomp, p_passar_masc_engcomp)\n",
    "\n",
    "print(p_passar_fem_engcomp, p_passar_masc_engcomp, engcomp)"
   ]
  },
  {
   "cell_type": "code",
   "execution_count": 11,
   "metadata": {},
   "outputs": [
    {
     "name": "stdout",
     "output_type": "stream",
     "text": [
      "0.15384615384615385 0.2857142857142857 0.2353490275028401\n"
     ]
    }
   ],
   "source": [
    "#ENGENHARIA MECATRÔNICA\n",
    "total_masc_mecat = df_gp.loc['ENGENHARIA MECATRÔNICA']['Masculino'].sum()\n",
    "total_fem_mecat = df_gp.loc['ENGENHARIA MECATRÔNICA']['Feminino'].sum()\n",
    "total_masc_mecat_app = df_gp.loc['ENGENHARIA MECATRÔNICA']['Masculino']['Sim']\n",
    "total_fem_mecat_app = df_gp.loc['ENGENHARIA MECATRÔNICA']['Feminino']['Sim']\n",
    "\n",
    "p_passar_fem_mecat = total_fem_mecat_app / total_fem_mecat\n",
    "\n",
    "p_passar_masc_mecat = total_masc_mecat_app / total_masc_mecat\n",
    "\n",
    "mecat = st.binom.cdf(total_fem_mecat_app, total_fem_mecat, p_passar_masc_mecat)\n",
    "\n",
    "print(p_passar_fem_mecat, p_passar_masc_mecat, mecat)"
   ]
  },
  {
   "cell_type": "code",
   "execution_count": 13,
   "metadata": {},
   "outputs": [
    {
     "name": "stdout",
     "output_type": "stream",
     "text": [
      "0.46153846153846156 0.26785714285714285 0.1064824914660567\n"
     ]
    }
   ],
   "source": [
    "#ENGENHARIA MECÂNICA\n",
    "total_masc_mec = df_gp.loc['ENGENHARIA MECÂNICA']['Masculino'].sum()\n",
    "total_fem_mec = df_gp.loc['ENGENHARIA MECÂNICA']['Feminino'].sum()\n",
    "total_masc_mec_app = df_gp.loc['ENGENHARIA MECÂNICA']['Masculino']['Sim']\n",
    "total_fem_mec_app = df_gp.loc['ENGENHARIA MECÂNICA']['Feminino']['Sim']\n",
    "\n",
    "p_passar_fem_mec = total_fem_mec_app / total_fem_mec\n",
    "\n",
    "p_passar_masc_mec = total_masc_mec_app / total_masc_mec\n",
    "\n",
    "mec = 1-st.binom.cdf(total_fem_mec_app-1, total_fem_mec, p_passar_masc_mec)\n",
    "\n",
    "print(p_passar_fem_mec, p_passar_masc_mec, mec)"
   ]
  }
 ],
 "metadata": {
  "kernelspec": {
   "display_name": ".venv",
   "language": "python",
   "name": "python3"
  },
  "language_info": {
   "codemirror_mode": {
    "name": "ipython",
    "version": 3
   },
   "file_extension": ".py",
   "mimetype": "text/x-python",
   "name": "python",
   "nbconvert_exporter": "python",
   "pygments_lexer": "ipython3",
   "version": "3.10.10"
  }
 },
 "nbformat": 4,
 "nbformat_minor": 2
}
