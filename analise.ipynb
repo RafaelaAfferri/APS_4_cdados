{
 "cells": [
  {
   "cell_type": "code",
   "execution_count": 44,
   "metadata": {},
   "outputs": [
    {
     "name": "stdout",
     "output_type": "stream",
     "text": [
      "0.20261437908496732 0.22823218997361477\n",
      "0.915083537494856\n"
     ]
    }
   ],
   "source": [
    "import pandas as pd\n",
    "import scipy.stats as st\n",
    "df = pd.read_excel('Dados_Vestibular20232.xlsx')\n",
    "\n",
    "df_ = df[['Curso Nome', 'Sexo' , 'Convocado?']]\n",
    "\n",
    "# filtrado pela contagem \n",
    "df_gp = df_.groupby(['Curso Nome']).value_counts()\n",
    "\n",
    "#como acessar exemplo:\n",
    "#df_gp.loc['CIÊNCIA DA COMPUTAÇÃO']['Masculino']['Não']\n",
    "\n",
    "total_masc_adm = df_gp.loc['ADMINISTRAÇÃO']['Masculino'].sum()\n",
    "total_fem_adm = df_gp.loc['ADMINISTRAÇÃO']['Feminino'].sum()\n",
    "total_masc_adm_app = df_gp.loc['ADMINISTRAÇÃO']['Masculino']['Sim']\n",
    "total_fem_adm_app = df_gp.loc['ADMINISTRAÇÃO']['Feminino']['Sim']\n",
    "\n",
    "p_passar_fem_adm = total_fem_adm_app / total_fem_adm\n",
    "\n",
    "p_passar_masc_adm = total_masc_adm_app / total_masc_adm\n",
    "\n",
    "print(p_passar_fem_adm,p_passar_masc_adm)\n",
    "\n",
    "a = 1- st.binom.cdf(total_fem_adm_app-1, total_fem_adm, p_passar_masc_adm)\n",
    "\n",
    "print(a)"
   ]
  }
 ],
 "metadata": {
  "kernelspec": {
   "display_name": ".venv",
   "language": "python",
   "name": "python3"
  },
  "language_info": {
   "name": "python",
   "version": "3.11.4"
  }
 },
 "nbformat": 4,
 "nbformat_minor": 2
}
